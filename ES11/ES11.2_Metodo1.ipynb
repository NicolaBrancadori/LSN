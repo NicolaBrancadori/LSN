{
 "cells": [
  {
   "cell_type": "markdown",
   "id": "67f60772",
   "metadata": {},
   "source": [
    "## Esercizio 11.2\n",
    "### Metodo 1\n",
    "\n",
    "Estendo in questo esercizio il modello precedente per la regressione lineare al caso di un polinomio di terzo grado\n",
    "\n",
    "$$\n",
    "f(x)=4-3x-2x^2+3x^3\n",
    "$$\n",
    "\n",
    "Nel dominio $x \\in [-1,1]$.\n",
    "\n",
    "\n"
   ]
  },
  {
   "cell_type": "markdown",
   "id": "9d38228a",
   "metadata": {},
   "source": [
    "Costruisco la rete neurale nel seguente modo:\n",
    "- Non utilizzo un solo valore in input, ma bensì tre valori e un solo output. I tre valori sono le coordinate sono $(x,x^2,x^3)$.\n",
    "- Non ho necessità di utilizzare più layer e neanche una funzione di attivazione. Quindi la rete è composta da un solo layer con un neurone che riceve tre valori in input e ne restituisce uno.\n",
    "- I punti sui quali alleno la rete sono $N_{train}=3000$ e per la validazione utilizzo $N_{valid}=300$ punti. Le epoche sono 100 anche se già dopo la 80-esima circa la rete smette di imparare.\n",
    "\n",
    "Il fit è molto buono, la rete riproduce molto bene la curva f."
   ]
  },
  {
   "cell_type": "code",
   "execution_count": 1,
   "id": "1f154c14",
   "metadata": {},
   "outputs": [
    {
     "data": {
      "image/png": "[encoded data removed]",
      "text/plain": [
       "<Figure size 432x288 with 1 Axes>"
      ]
     },
     "metadata": {
      "needs_background": "light"
     },
     "output_type": "display_data"
    }
   ],
   "source": [
    "import numpy as np\n",
    "import matplotlib.pyplot as plt\n",
    "\n",
    "a=3\n",
    "b=-2\n",
    "c=-3\n",
    "d=4\n",
    "N_train=3000\n",
    "N_valid=100\n",
    "\n",
    "\n",
    "#genero i punti in input\n",
    "np.random.seed(0)\n",
    "\n",
    "x_train=np.empty([N_train,3])\n",
    "for i in range(0,N_train):\n",
    "    x=np.random.uniform(-1,1,1)\n",
    "    x_train[i,0]=x\n",
    "    x_train[i,1]=x**2\n",
    "    x_train[i,2]=x**3\n",
    "\n",
    "x_valid=np.empty([N_valid,3])\n",
    "for i in range(0,N_valid):\n",
    "    x=np.random.uniform(-1,1)\n",
    "    x_valid[i,0]=x\n",
    "    x_valid[i,1]=x**2\n",
    "    x_valid[i,2]=x**3\n",
    "\n",
    "#ordino rispetto alla prima colonna\n",
    "sortindexes=x_valid[:,0].argsort()\n",
    "x_valid=x_valid[sortindexes]\n",
    "\n",
    "y_target = a*x_valid[:,2] + b*x_valid[:,1] + c*x_valid[:,0] + d\n",
    "\n",
    "#ecco le y_valid e y_train con rumore:\n",
    "sigma=0.2\n",
    "y_train= np.random.normal(a*x_train[:,2] + b*x_train[:,1] + c*x_train[:,0] + d, sigma)\n",
    "y_valid= np.random.normal(a*x_valid[:,2] + b*x_valid[:,1] + c*x_valid[:,0] + d, sigma)\n",
    "\n",
    "\n",
    "#plottiamo e vediamo\n",
    "plt.scatter(x_valid[:,0],y_valid,c='r',label='validation points')\n",
    "plt.plot(x_valid[:,0],y_target,label='ideal polinomial')\n",
    "plt.legend()\n",
    "plt.show()\n"
   ]
  },
  {
   "cell_type": "code",
   "execution_count": 2,
   "id": "3abfb8ab",
   "metadata": {
    "scrolled": true
   },
   "outputs": [
    {
     "name": "stdout",
     "output_type": "stream",
     "text": [
      "Model: \"sequential\"\n",
      "_________________________________________________________________\n",
      "Layer (type)                 Output Shape              Param #   \n",
      "=================================================================\n",
      "dense (Dense)                (None, 1)                 4         \n",
      "=================================================================\n",
      "Total params: 4\n",
      "Trainable params: 4\n",
      "Non-trainable params: 0\n",
      "_________________________________________________________________\n"
     ]
    }
   ],
   "source": [
    "import tensorflow as tf\n",
    "from tensorflow import keras\n",
    "\n",
    "from tensorflow.keras.models import Sequential\n",
    "from tensorflow.keras.layers import Dense, Activation\n",
    "from tensorflow.keras import backend as K\n",
    "from tensorflow.keras.utils import get_custom_objects\n",
    "\n",
    "\n",
    "model=tf.keras.Sequential()\n",
    "model.add(Dense(1,input_shape=(3,)))\n",
    "\n",
    "model.compile(optimizer='sgd', loss='mse', metrics=['mse'])\n",
    "\n",
    "model.summary()\n"
   ]
  },
  {
   "cell_type": "code",
   "execution_count": 3,
   "id": "38be1ef9",
   "metadata": {},
   "outputs": [
    {
     "name": "stdout",
     "output_type": "stream",
     "text": [
      "Train on 3000 samples, validate on 100 samples\n",
      "Epoch 1/100\n",
      "3000/3000 [==============================] - 1s 383us/sample - loss: 4.2910 - mse: 4.2910 - val_loss: 1.3461 - val_mse: 1.3461\n",
      "Epoch 2/100\n",
      "3000/3000 [==============================] - 0s 88us/sample - loss: 1.0682 - mse: 1.0682 - val_loss: 0.7414 - val_mse: 0.7414\n",
      "Epoch 3/100\n",
      "3000/3000 [==============================] - 0s 85us/sample - loss: 0.7574 - mse: 0.7574 - val_loss: 0.5559 - val_mse: 0.5559\n",
      "Epoch 4/100\n",
      "3000/3000 [==============================] - 0s 85us/sample - loss: 0.6124 - mse: 0.6124 - val_loss: 0.4515 - val_mse: 0.4515\n",
      "Epoch 5/100\n",
      "3000/3000 [==============================] - 0s 88us/sample - loss: 0.5134 - mse: 0.5134 - val_loss: 0.3783 - val_mse: 0.3783\n",
      "Epoch 6/100\n",
      "3000/3000 [==============================] - 0s 87us/sample - loss: 0.4390 - mse: 0.4390 - val_loss: 0.3253 - val_mse: 0.3253\n",
      "Epoch 7/100\n",
      "3000/3000 [==============================] - 0s 87us/sample - loss: 0.3815 - mse: 0.3815 - val_loss: 0.2847 - val_mse: 0.2847\n",
      "Epoch 8/100\n",
      "3000/3000 [==============================] - 0s 90us/sample - loss: 0.3362 - mse: 0.3362 - val_loss: 0.2534 - val_mse: 0.2534\n",
      "Epoch 9/100\n",
      "3000/3000 [==============================] - 0s 93us/sample - loss: 0.3000 - mse: 0.3000 - val_loss: 0.2283 - val_mse: 0.2283\n",
      "Epoch 10/100\n",
      "3000/3000 [==============================] - 0s 86us/sample - loss: 0.2709 - mse: 0.2709 - val_loss: 0.2085 - val_mse: 0.2085\n",
      "Epoch 11/100\n",
      "3000/3000 [==============================] - 0s 85us/sample - loss: 0.2470 - mse: 0.2470 - val_loss: 0.1912 - val_mse: 0.1912\n",
      "Epoch 12/100\n",
      "3000/3000 [==============================] - 0s 88us/sample - loss: 0.2270 - mse: 0.2270 - val_loss: 0.1767 - val_mse: 0.1767\n",
      "Epoch 13/100\n",
      "3000/3000 [==============================] - 0s 87us/sample - loss: 0.2103 - mse: 0.2103 - val_loss: 0.1650 - val_mse: 0.1650\n",
      "Epoch 14/100\n",
      "3000/3000 [==============================] - 0s 88us/sample - loss: 0.1959 - mse: 0.1959 - val_loss: 0.1548 - val_mse: 0.1548\n",
      "Epoch 15/100\n",
      "3000/3000 [==============================] - 0s 88us/sample - loss: 0.1833 - mse: 0.1833 - val_loss: 0.1462 - val_mse: 0.1462\n",
      "Epoch 16/100\n",
      "3000/3000 [==============================] - 0s 89us/sample - loss: 0.1725 - mse: 0.1725 - val_loss: 0.1383 - val_mse: 0.1383\n",
      "Epoch 17/100\n",
      "3000/3000 [==============================] - 0s 88us/sample - loss: 0.1627 - mse: 0.1627 - val_loss: 0.1309 - val_mse: 0.1309\n",
      "Epoch 18/100\n",
      "3000/3000 [==============================] - 0s 87us/sample - loss: 0.1541 - mse: 0.1541 - val_loss: 0.1249 - val_mse: 0.1249\n",
      "Epoch 19/100\n",
      "3000/3000 [==============================] - 0s 84us/sample - loss: 0.1462 - mse: 0.1462 - val_loss: 0.1191 - val_mse: 0.1191\n",
      "Epoch 20/100\n",
      "3000/3000 [==============================] - 0s 87us/sample - loss: 0.1390 - mse: 0.1390 - val_loss: 0.1138 - val_mse: 0.1138\n",
      "Epoch 21/100\n",
      "3000/3000 [==============================] - 0s 88us/sample - loss: 0.1324 - mse: 0.1324 - val_loss: 0.1087 - val_mse: 0.1087\n",
      "Epoch 22/100\n",
      "3000/3000 [==============================] - 0s 87us/sample - loss: 0.1264 - mse: 0.1264 - val_loss: 0.1043 - val_mse: 0.1043\n",
      "Epoch 23/100\n",
      "3000/3000 [==============================] - 0s 87us/sample - loss: 0.1208 - mse: 0.1208 - val_loss: 0.1002 - val_mse: 0.1002\n",
      "Epoch 24/100\n",
      "3000/3000 [==============================] - 0s 87us/sample - loss: 0.1157 - mse: 0.1157 - val_loss: 0.0962 - val_mse: 0.0962\n",
      "Epoch 25/100\n",
      "3000/3000 [==============================] - 0s 88us/sample - loss: 0.1108 - mse: 0.1108 - val_loss: 0.0926 - val_mse: 0.0926\n",
      "Epoch 26/100\n",
      "3000/3000 [==============================] - 0s 87us/sample - loss: 0.1063 - mse: 0.1063 - val_loss: 0.0893 - val_mse: 0.0893\n",
      "Epoch 27/100\n",
      "3000/3000 [==============================] - 0s 88us/sample - loss: 0.1021 - mse: 0.1021 - val_loss: 0.0862 - val_mse: 0.0862\n",
      "Epoch 28/100\n",
      "3000/3000 [==============================] - 0s 86us/sample - loss: 0.0982 - mse: 0.0982 - val_loss: 0.0834 - val_mse: 0.0834\n",
      "Epoch 29/100\n",
      "3000/3000 [==============================] - 0s 87us/sample - loss: 0.0946 - mse: 0.0946 - val_loss: 0.0808 - val_mse: 0.0808\n",
      "Epoch 30/100\n",
      "3000/3000 [==============================] - 0s 88us/sample - loss: 0.0912 - mse: 0.0912 - val_loss: 0.0781 - val_mse: 0.0781\n",
      "Epoch 31/100\n",
      "3000/3000 [==============================] - 0s 86us/sample - loss: 0.0880 - mse: 0.0880 - val_loss: 0.0759 - val_mse: 0.0759\n",
      "Epoch 32/100\n",
      "3000/3000 [==============================] - 0s 90us/sample - loss: 0.0850 - mse: 0.0850 - val_loss: 0.0734 - val_mse: 0.0734\n",
      "Epoch 33/100\n",
      "3000/3000 [==============================] - 0s 86us/sample - loss: 0.0822 - mse: 0.0822 - val_loss: 0.0713 - val_mse: 0.0713\n",
      "Epoch 34/100\n",
      "3000/3000 [==============================] - 0s 88us/sample - loss: 0.0795 - mse: 0.0795 - val_loss: 0.0695 - val_mse: 0.0695\n",
      "Epoch 35/100\n",
      "3000/3000 [==============================] - 0s 89us/sample - loss: 0.0771 - mse: 0.0771 - val_loss: 0.0676 - val_mse: 0.0676\n",
      "Epoch 36/100\n",
      "3000/3000 [==============================] - 0s 109us/sample - loss: 0.0748 - mse: 0.0748 - val_loss: 0.0658 - val_mse: 0.0658\n",
      "Epoch 37/100\n",
      "3000/3000 [==============================] - 0s 99us/sample - loss: 0.0726 - mse: 0.0726 - val_loss: 0.0641 - val_mse: 0.0641\n",
      "Epoch 38/100\n",
      "3000/3000 [==============================] - 0s 87us/sample - loss: 0.0706 - mse: 0.0706 - val_loss: 0.0626 - val_mse: 0.0626\n",
      "Epoch 39/100\n",
      "3000/3000 [==============================] - 0s 85us/sample - loss: 0.0686 - mse: 0.0686 - val_loss: 0.0612 - val_mse: 0.0612\n",
      "Epoch 40/100\n",
      "3000/3000 [==============================] - 0s 107us/sample - loss: 0.0669 - mse: 0.0669 - val_loss: 0.0597 - val_mse: 0.0597\n",
      "Epoch 41/100\n",
      "3000/3000 [==============================] - 0s 85us/sample - loss: 0.0652 - mse: 0.0652 - val_loss: 0.0585 - val_mse: 0.0585\n",
      "Epoch 42/100\n",
      "3000/3000 [==============================] - 0s 89us/sample - loss: 0.0636 - mse: 0.0636 - val_loss: 0.0574 - val_mse: 0.0574\n",
      "Epoch 43/100\n",
      "3000/3000 [==============================] - 0s 85us/sample - loss: 0.0621 - mse: 0.0621 - val_loss: 0.0563 - val_mse: 0.0563\n",
      "Epoch 44/100\n",
      "3000/3000 [==============================] - 0s 86us/sample - loss: 0.0607 - mse: 0.0607 - val_loss: 0.0554 - val_mse: 0.0554\n",
      "Epoch 45/100\n",
      "3000/3000 [==============================] - 0s 89us/sample - loss: 0.0594 - mse: 0.0594 - val_loss: 0.0544 - val_mse: 0.0544\n",
      "Epoch 46/100\n",
      "3000/3000 [==============================] - 0s 86us/sample - loss: 0.0582 - mse: 0.0582 - val_loss: 0.0535 - val_mse: 0.0535\n",
      "Epoch 47/100\n",
      "3000/3000 [==============================] - 0s 85us/sample - loss: 0.0571 - mse: 0.0571 - val_loss: 0.0527 - val_mse: 0.0527\n",
      "Epoch 48/100\n",
      "3000/3000 [==============================] - 0s 86us/sample - loss: 0.0560 - mse: 0.0560 - val_loss: 0.0519 - val_mse: 0.0519\n",
      "Epoch 49/100\n",
      "3000/3000 [==============================] - 0s 86us/sample - loss: 0.0550 - mse: 0.0550 - val_loss: 0.0512 - val_mse: 0.0512\n",
      "Epoch 50/100\n",
      "3000/3000 [==============================] - 0s 86us/sample - loss: 0.0540 - mse: 0.0540 - val_loss: 0.0505 - val_mse: 0.0505\n",
      "Epoch 51/100\n",
      "3000/3000 [==============================] - 0s 85us/sample - loss: 0.0531 - mse: 0.0531 - val_loss: 0.0498 - val_mse: 0.0498\n",
      "Epoch 52/100\n",
      "3000/3000 [==============================] - 0s 89us/sample - loss: 0.0523 - mse: 0.0523 - val_loss: 0.0492 - val_mse: 0.0492\n",
      "Epoch 53/100\n",
      "3000/3000 [==============================] - 0s 86us/sample - loss: 0.0515 - mse: 0.0515 - val_loss: 0.0487 - val_mse: 0.0487\n",
      "Epoch 54/100\n",
      "3000/3000 [==============================] - 0s 86us/sample - loss: 0.0508 - mse: 0.0508 - val_loss: 0.0483 - val_mse: 0.0483\n",
      "Epoch 55/100\n",
      "3000/3000 [==============================] - 0s 87us/sample - loss: 0.0501 - mse: 0.0501 - val_loss: 0.0478 - val_mse: 0.0478\n",
      "Epoch 56/100\n",
      "3000/3000 [==============================] - 0s 88us/sample - loss: 0.0494 - mse: 0.0494 - val_loss: 0.0474 - val_mse: 0.0474\n",
      "Epoch 57/100\n",
      "3000/3000 [==============================] - 0s 86us/sample - loss: 0.0488 - mse: 0.0488 - val_loss: 0.0469 - val_mse: 0.0469\n",
      "Epoch 58/100\n",
      "3000/3000 [==============================] - 0s 87us/sample - loss: 0.0482 - mse: 0.0482 - val_loss: 0.0466 - val_mse: 0.0466\n",
      "Epoch 59/100\n"
     ]
    },
    {
     "name": "stdout",
     "output_type": "stream",
     "text": [
      "3000/3000 [==============================] - 0s 86us/sample - loss: 0.0477 - mse: 0.0477 - val_loss: 0.0462 - val_mse: 0.0462\n",
      "Epoch 60/100\n",
      "3000/3000 [==============================] - 0s 83us/sample - loss: 0.0472 - mse: 0.0472 - val_loss: 0.0459 - val_mse: 0.0459\n",
      "Epoch 61/100\n",
      "3000/3000 [==============================] - 0s 82us/sample - loss: 0.0467 - mse: 0.0467 - val_loss: 0.0456 - val_mse: 0.0456\n",
      "Epoch 62/100\n",
      "3000/3000 [==============================] - 0s 82us/sample - loss: 0.0463 - mse: 0.0463 - val_loss: 0.0453 - val_mse: 0.0453\n",
      "Epoch 63/100\n",
      "3000/3000 [==============================] - 0s 82us/sample - loss: 0.0459 - mse: 0.0459 - val_loss: 0.0451 - val_mse: 0.0451\n",
      "Epoch 64/100\n",
      "3000/3000 [==============================] - 0s 83us/sample - loss: 0.0455 - mse: 0.0455 - val_loss: 0.0447 - val_mse: 0.0447\n",
      "Epoch 65/100\n",
      "3000/3000 [==============================] - 0s 83us/sample - loss: 0.0451 - mse: 0.0451 - val_loss: 0.0445 - val_mse: 0.0445\n",
      "Epoch 66/100\n",
      "3000/3000 [==============================] - 0s 83us/sample - loss: 0.0448 - mse: 0.0448 - val_loss: 0.0443 - val_mse: 0.0443\n",
      "Epoch 67/100\n",
      "3000/3000 [==============================] - 0s 83us/sample - loss: 0.0445 - mse: 0.0445 - val_loss: 0.0441 - val_mse: 0.0441\n",
      "Epoch 68/100\n",
      "3000/3000 [==============================] - 0s 85us/sample - loss: 0.0442 - mse: 0.0442 - val_loss: 0.0439 - val_mse: 0.0439\n",
      "Epoch 69/100\n",
      "3000/3000 [==============================] - 0s 84us/sample - loss: 0.0439 - mse: 0.0439 - val_loss: 0.0438 - val_mse: 0.0438\n",
      "Epoch 70/100\n",
      "3000/3000 [==============================] - 0s 84us/sample - loss: 0.0436 - mse: 0.0436 - val_loss: 0.0436 - val_mse: 0.0436\n",
      "Epoch 71/100\n",
      "3000/3000 [==============================] - 0s 83us/sample - loss: 0.0434 - mse: 0.0434 - val_loss: 0.0435 - val_mse: 0.0435\n",
      "Epoch 72/100\n",
      "3000/3000 [==============================] - 0s 84us/sample - loss: 0.0431 - mse: 0.0431 - val_loss: 0.0433 - val_mse: 0.0433\n",
      "Epoch 73/100\n",
      "3000/3000 [==============================] - 0s 84us/sample - loss: 0.0429 - mse: 0.0429 - val_loss: 0.0432 - val_mse: 0.0432\n",
      "Epoch 74/100\n",
      "3000/3000 [==============================] - 0s 85us/sample - loss: 0.0427 - mse: 0.0427 - val_loss: 0.0431 - val_mse: 0.0431\n",
      "Epoch 75/100\n",
      "3000/3000 [==============================] - 0s 84us/sample - loss: 0.0425 - mse: 0.0425 - val_loss: 0.0429 - val_mse: 0.0429\n",
      "Epoch 76/100\n",
      "3000/3000 [==============================] - 0s 84us/sample - loss: 0.0423 - mse: 0.0423 - val_loss: 0.0428 - val_mse: 0.0428\n",
      "Epoch 77/100\n",
      "3000/3000 [==============================] - 0s 83us/sample - loss: 0.0422 - mse: 0.0422 - val_loss: 0.0427 - val_mse: 0.0427\n",
      "Epoch 78/100\n",
      "3000/3000 [==============================] - 0s 85us/sample - loss: 0.0420 - mse: 0.0420 - val_loss: 0.0427 - val_mse: 0.0427\n",
      "Epoch 79/100\n",
      "3000/3000 [==============================] - 0s 88us/sample - loss: 0.0418 - mse: 0.0418 - val_loss: 0.0426 - val_mse: 0.0426\n",
      "Epoch 80/100\n",
      "3000/3000 [==============================] - 0s 83us/sample - loss: 0.0417 - mse: 0.0417 - val_loss: 0.0425 - val_mse: 0.0425\n",
      "Epoch 81/100\n",
      "3000/3000 [==============================] - 0s 84us/sample - loss: 0.0416 - mse: 0.0416 - val_loss: 0.0425 - val_mse: 0.0425\n",
      "Epoch 82/100\n",
      "3000/3000 [==============================] - 0s 84us/sample - loss: 0.0414 - mse: 0.0414 - val_loss: 0.0424 - val_mse: 0.0424\n",
      "Epoch 83/100\n",
      "3000/3000 [==============================] - 0s 86us/sample - loss: 0.0413 - mse: 0.0413 - val_loss: 0.0423 - val_mse: 0.0423\n",
      "Epoch 84/100\n",
      "3000/3000 [==============================] - 0s 90us/sample - loss: 0.0412 - mse: 0.0412 - val_loss: 0.0423 - val_mse: 0.0423\n",
      "Epoch 85/100\n",
      "3000/3000 [==============================] - 0s 85us/sample - loss: 0.0411 - mse: 0.0411 - val_loss: 0.0422 - val_mse: 0.0422\n",
      "Epoch 86/100\n",
      "3000/3000 [==============================] - 0s 84us/sample - loss: 0.0410 - mse: 0.0410 - val_loss: 0.0422 - val_mse: 0.0422\n",
      "Epoch 87/100\n",
      "3000/3000 [==============================] - 0s 83us/sample - loss: 0.0409 - mse: 0.0409 - val_loss: 0.0421 - val_mse: 0.0421\n",
      "Epoch 88/100\n",
      "3000/3000 [==============================] - 0s 84us/sample - loss: 0.0408 - mse: 0.0408 - val_loss: 0.0421 - val_mse: 0.0421\n",
      "Epoch 89/100\n",
      "3000/3000 [==============================] - 0s 84us/sample - loss: 0.0408 - mse: 0.0408 - val_loss: 0.0421 - val_mse: 0.0421\n",
      "Epoch 90/100\n",
      "3000/3000 [==============================] - 0s 87us/sample - loss: 0.0407 - mse: 0.0407 - val_loss: 0.0421 - val_mse: 0.0421\n",
      "Epoch 91/100\n",
      "3000/3000 [==============================] - 0s 83us/sample - loss: 0.0406 - mse: 0.0406 - val_loss: 0.0420 - val_mse: 0.0420\n",
      "Epoch 92/100\n",
      "3000/3000 [==============================] - 0s 85us/sample - loss: 0.0405 - mse: 0.0405 - val_loss: 0.0420 - val_mse: 0.0420\n",
      "Epoch 93/100\n",
      "3000/3000 [==============================] - 0s 83us/sample - loss: 0.0405 - mse: 0.0405 - val_loss: 0.0420 - val_mse: 0.0420\n",
      "Epoch 94/100\n",
      "3000/3000 [==============================] - 0s 86us/sample - loss: 0.0404 - mse: 0.0404 - val_loss: 0.0420 - val_mse: 0.0420\n",
      "Epoch 95/100\n",
      "3000/3000 [==============================] - 0s 83us/sample - loss: 0.0404 - mse: 0.0404 - val_loss: 0.0420 - val_mse: 0.0420\n",
      "Epoch 96/100\n",
      "3000/3000 [==============================] - 0s 83us/sample - loss: 0.0403 - mse: 0.0403 - val_loss: 0.0419 - val_mse: 0.0419\n",
      "Epoch 97/100\n",
      "3000/3000 [==============================] - 0s 84us/sample - loss: 0.0403 - mse: 0.0403 - val_loss: 0.0419 - val_mse: 0.0419\n",
      "Epoch 98/100\n",
      "3000/3000 [==============================] - 0s 84us/sample - loss: 0.0402 - mse: 0.0402 - val_loss: 0.0419 - val_mse: 0.0419\n",
      "Epoch 99/100\n",
      "3000/3000 [==============================] - 0s 84us/sample - loss: 0.0402 - mse: 0.0402 - val_loss: 0.0419 - val_mse: 0.0419\n",
      "Epoch 100/100\n",
      "3000/3000 [==============================] - 0s 86us/sample - loss: 0.0402 - mse: 0.0402 - val_loss: 0.0419 - val_mse: 0.0419\n"
     ]
    },
    {
     "data": {
      "text/plain": [
       "[array([[-2.8936248],\n",
       "        [-1.9985573],\n",
       "        [ 2.8230448]], dtype=float32),\n",
       " array([3.9966533], dtype=float32)]"
      ]
     },
     "execution_count": 3,
     "metadata": {},
     "output_type": "execute_result"
    }
   ],
   "source": [
    "history = model.fit(x=x_train, y=y_train, batch_size=32,\n",
    "          epochs=100, shuffle=True, validation_data=(x_valid, y_valid))\n",
    "\n",
    "model.get_weights()"
   ]
  },
  {
   "cell_type": "code",
   "execution_count": 4,
   "id": "dfd3523c",
   "metadata": {},
   "outputs": [
    {
     "name": "stdout",
     "output_type": "stream",
     "text": [
      "\r",
      "100/1 [========================================================================================================================================================================================================================================================================================================================================================================================================================================================================================================================================================================================================================================================================================================================================================================================================================================================================================================================================================================================================================================================================================================================================================================================================================================================================================================================================================================================================================================================================================================================================================================================================================================================================================================================================================================================================================================================================================================================================================================================================================================================================================================================================================================================================================================================================================================================================================================================================================================================================================================================================================================================================================================================================================================================================================================================================================================================================================================================================================================================================================================================================================================================] - 0s 62us/sample - loss: 0.0013 - mse: 5.9076e-04\n"
     ]
    },
    {
     "data": {
      "image/png": "[encoded data removed]",
      "text/plain": [
       "<Figure size 432x288 with 1 Axes>"
      ]
     },
     "metadata": {
      "needs_background": "light"
     },
     "output_type": "display_data"
    }
   ],
   "source": [
    "score = model.evaluate(x_valid, y_target, batch_size=32, verbose=1)\n",
    "plt.plot(history.history['loss'])\n",
    "plt.plot(history.history['val_loss'])\n",
    "plt.yscale('log')\n",
    "plt.title('Model loss')\n",
    "plt.ylabel('Loss')\n",
    "plt.xlabel('Epoch')\n",
    "plt.legend(['Train', 'Test'], loc='best')\n",
    "plt.show()"
   ]
  },
  {
   "cell_type": "code",
   "execution_count": 5,
   "id": "381a1ff3",
   "metadata": {},
   "outputs": [
    {
     "data": {
      "image/png": "[encoded data removed]",
      "text/plain": [
       "<Figure size 432x288 with 1 Axes>"
      ]
     },
     "metadata": {
      "needs_background": "light"
     },
     "output_type": "display_data"
    }
   ],
   "source": [
    "x_predicted=np.empty([100,3])\n",
    "for i in range(0,100):\n",
    "    x=np.random.uniform(-1,1)\n",
    "    x_predicted[i,0]=x\n",
    "    x_predicted[i,1]=x**2\n",
    "    x_predicted[i,2]=x**3\n",
    "    \n",
    "\n",
    "y_predicted = model.predict(x_predicted)\n",
    "\n",
    "plt.scatter(x_predicted[:,0], y_predicted,color='r')\n",
    "plt.plot(x_valid[:,0], y_target)\n",
    "plt.grid(True)\n",
    "plt.show()"
   ]
  },
  {
   "cell_type": "markdown",
   "id": "8f6a99d1",
   "metadata": {},
   "source": [
    "Ora provo a predirre punti che non sono all'interno dell'intervallo nel quale la rete ha imparato. Utilizzo $x \\in (1,2)$."
   ]
  },
  {
   "cell_type": "code",
   "execution_count": 6,
   "id": "42779905",
   "metadata": {},
   "outputs": [
    {
     "data": {
      "image/png": "[encoded data removed]",
      "text/plain": [
       "<Figure size 432x288 with 1 Axes>"
      ]
     },
     "metadata": {
      "needs_background": "light"
     },
     "output_type": "display_data"
    }
   ],
   "source": [
    "x_predicted=np.empty([100,3])\n",
    "for i in range(0,100):\n",
    "    x=np.random.uniform(1,2)\n",
    "    x_predicted[i,0]=x\n",
    "    x_predicted[i,1]=x**2\n",
    "    x_predicted[i,2]=x**3\n",
    "\n",
    "#ordino\n",
    "ind = x_predicted[:,0].argsort()\n",
    "x_predicted=x_predicted[ind]\n",
    "\n",
    "y_predicted = model.predict(x_predicted)\n",
    "y_real = a*x_predicted[:,2] + b*x_predicted[:,1] + c*x_predicted[:,0] + d\n",
    "\n",
    "plt.scatter(x_predicted[:,0], y_predicted,color='r')\n",
    "plt.plot(x_predicted[:,0], y_real)\n",
    "plt.grid(True)\n",
    "plt.show()"
   ]
  },
  {
   "cell_type": "markdown",
   "id": "11c020cc",
   "metadata": {},
   "source": [
    "Come si evince dal grafico la rete, mano a mano che ci allontana dall'intervallo nel quale erano presenti i punti di training, perde il suo potere predittivo e i punti non seguono più l'andamento del target."
   ]
  }
 ],
 "metadata": {
  "kernelspec": {
   "display_name": "Python 3",
   "language": "python",
   "name": "python3"
  },
  "language_info": {
   "codemirror_mode": {
    "name": "ipython",
    "version": 3
   },
   "file_extension": ".py",
   "mimetype": "text/x-python",
   "name": "python",
   "nbconvert_exporter": "python",
   "pygments_lexer": "ipython3",
   "version": "3.6.13"
  }
 },
 "nbformat": 4,
 "nbformat_minor": 5
}
