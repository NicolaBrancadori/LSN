{
 "cells": [
  {
   "cell_type": "markdown",
   "id": "af10fb74",
   "metadata": {},
   "source": [
    "### Esercizio 1.1c\n",
    "\n",
    "Possiamo stimare qual è la probabilità che i numeri random utilizzati negli esercizi precedenti siano originati in modo casuale tra 0 e 1, ovvero seguano una distribuzione uniforme. Il generatore è pseudo casuale, l'algoritmo con il quale i numeri vengono creati è deterministico, quindi quello che mi aspetto è che i numeri casuali non seguano una distribuzione uniforme. Per dimostrarlo utilizziamo il test del $\\chi2$.\n",
    "\n",
    "\n",
    "#### Procedimento\n",
    "\n",
    "Genero $n=10^4$ numeri casuali in $(0,1)$, divido l'intervallo in $M=100$ sottointervalli e conto quanti numeri sono caduti in ogni sottointervallo. Poi misuro il $\\chi2$ sapendo che il numero di conteggi atteso è $n/M$:\n",
    "\n",
    "$$\n",
    "\\chi^2 = \\sum_{i=1}^M \\frac{\\left( n_i - n/M \\right)^2}{n/M}\n",
    "$$\n",
    "dove la i indica i-esimo sottointervallo. Essendo $(n_i-n/M) \\simeq n/M$ mi aspetto che mediamente  $\\chi2 \\simeq 100$ che è un valore alto, che dimostra la non uniformità dei numeri casuali.\n",
    "\n",
    "Ripeto il procedimento 100 volte ottenendo così 100 valori del $\\chi2$ che riporto di seguito."
   ]
  },
  {
   "cell_type": "code",
   "execution_count": 2,
   "id": "e9c21b73",
   "metadata": {},
   "outputs": [
    {
     "data": {
      "image/png": "[encoded data removed]",
      "text/plain": [
       "<Figure size 432x288 with 1 Axes>"
      ]
     },
     "metadata": {
      "needs_background": "light"
     },
     "output_type": "display_data"
    }
   ],
   "source": [
    "import matplotlib.pyplot as plt\n",
    "import numpy as np\n",
    "\n",
    "with open(\"chi2.dat\") as out:\n",
    "    chi2=np.loadtxt(out,dtype=float)\n",
    "    \n",
    "\n",
    "x=np.arange(0,100)\n",
    "plt.scatter(x,chi2)\n",
    "plt.plot([0,100],[100,100],color='red')\n",
    "plt.ylim(0,200)\n",
    "plt.ylabel('$\\chi^2$')\n",
    "plt.show()\n",
    "    "
   ]
  }
 ],
 "metadata": {
  "kernelspec": {
   "display_name": "Python 3",
   "language": "python",
   "name": "python3"
  },
  "language_info": {
   "codemirror_mode": {
    "name": "ipython",
    "version": 3
   },
   "file_extension": ".py",
   "mimetype": "text/x-python",
   "name": "python",
   "nbconvert_exporter": "python",
   "pygments_lexer": "ipython3",
   "version": "3.6.13"
  }
 },
 "nbformat": 4,
 "nbformat_minor": 5
}
